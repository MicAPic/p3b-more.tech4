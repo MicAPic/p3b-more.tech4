{
 "cells": [
  {
   "cell_type": "markdown",
   "metadata": {
    "slideshow": {
     "slide_type": "slide"
    }
   },
   "source": [
    "<script>\n",
    "    document.querySelector('head').innerHTML += '<style>.slides { zoom: 1.0 !important; }</style>';\n",
    "    document.querySelector('blockquote').innerHTML += '<style>.slides { width: 100% !important; }</style>';\n",
    "</script>\n",
    "# Тренды & дайджесты\n",
    "---\n",
    "Результаты и код"
   ]
  },
  {
   "cell_type": "markdown",
   "metadata": {
    "slideshow": {
     "slide_type": "slide"
    }
   },
   "source": [
    "## Система сбора статей\n",
    "__Задача:__ реализовать систему сбора новостных статей"
   ]
  },
  {
   "cell_type": "code",
   "execution_count": 1,
   "metadata": {
    "slideshow": {
     "slide_type": "subslide"
    }
   },
   "outputs": [],
   "source": [
    "# TODO: код Игоря"
   ]
  },
  {
   "cell_type": "code",
   "execution_count": 2,
   "metadata": {
    "slideshow": {
     "slide_type": "subslide"
    }
   },
   "outputs": [
    {
     "data": {
      "text/html": [
       "<div>\n",
       "<style scoped>\n",
       "    .dataframe tbody tr th:only-of-type {\n",
       "        vertical-align: middle;\n",
       "    }\n",
       "\n",
       "    .dataframe tbody tr th {\n",
       "        vertical-align: top;\n",
       "    }\n",
       "\n",
       "    .dataframe thead th {\n",
       "        text-align: right;\n",
       "    }\n",
       "</style>\n",
       "<table border=\"1\" class=\"dataframe\">\n",
       "  <thead>\n",
       "    <tr style=\"text-align: right;\">\n",
       "      <th></th>\n",
       "      <th>Date</th>\n",
       "      <th>Link</th>\n",
       "      <th>Text</th>\n",
       "      <th>Title</th>\n",
       "    </tr>\n",
       "  </thead>\n",
       "  <tbody>\n",
       "    <tr>\n",
       "      <th>0</th>\n",
       "      <td>2022-10-08 04:53:00</td>\n",
       "      <td>https://lenta.ru/news/2022/10/08/saud/</td>\n",
       "      <td>Глава МИД Саудовской Аравии Адель аль-Джубейр ...</td>\n",
       "      <td>В Саудовской Аравии ответили на претензии США ...</td>\n",
       "    </tr>\n",
       "    <tr>\n",
       "      <th>1</th>\n",
       "      <td>2022-10-08 00:37:51</td>\n",
       "      <td>https://lenta.ru/news/2022/10/08/mvf/</td>\n",
       "      <td>Исполнительный совет Международного валютного ...</td>\n",
       "      <td>МВФ выделил 1,3 миллиарда долларов Украине</td>\n",
       "    </tr>\n",
       "    <tr>\n",
       "      <th>2</th>\n",
       "      <td>2022-10-07 21:31:00</td>\n",
       "      <td>https://lenta.ru/news/2022/10/07/sakhalin/</td>\n",
       "      <td>Президент России Владимир Путин подписал указ ...</td>\n",
       "      <td>Путин подписал указ о создании нового оператор...</td>\n",
       "    </tr>\n",
       "  </tbody>\n",
       "</table>\n",
       "</div>"
      ],
      "text/plain": [
       "                  Date                                        Link   \n",
       "0  2022-10-08 04:53:00      https://lenta.ru/news/2022/10/08/saud/  \\\n",
       "1  2022-10-08 00:37:51       https://lenta.ru/news/2022/10/08/mvf/   \n",
       "2  2022-10-07 21:31:00  https://lenta.ru/news/2022/10/07/sakhalin/   \n",
       "\n",
       "                                                Text   \n",
       "0  Глава МИД Саудовской Аравии Адель аль-Джубейр ...  \\\n",
       "1  Исполнительный совет Международного валютного ...   \n",
       "2  Президент России Владимир Путин подписал указ ...   \n",
       "\n",
       "                                               Title  \n",
       "0  В Саудовской Аравии ответили на претензии США ...  \n",
       "1         МВФ выделил 1,3 миллиарда долларов Украине  \n",
       "2  Путин подписал указ о создании нового оператор...  "
      ]
     },
     "execution_count": 2,
     "metadata": {},
     "output_type": "execute_result"
    }
   ],
   "source": [
    "# а пока так:\n",
    "import numpy as np\n",
    "import pandas as pd\n",
    "\n",
    "df = pd.read_csv('sample_dataset.tsv', sep='\\t')\n",
    "df.head(3)"
   ]
  },
  {
   "cell_type": "markdown",
   "metadata": {
    "slideshow": {
     "slide_type": "slide"
    }
   },
   "source": [
    "## Выделение новостных трендов\n",
    "__Задача:__ выделить тренды с помощью нейросетевых методов"
   ]
  },
  {
   "cell_type": "markdown",
   "metadata": {
    "slideshow": {
     "slide_type": "subslide"
    }
   },
   "source": [
    "### Группируем статьи по их сходству:\n",
    "-  Лемматизируем наши статьи, выделяем $n$-граммы.\n",
    "-  Используем предобученные эмбеддинги для русского языка, которые предлагает __spaCy__.\n",
    "-  Сходство считаем через *cosine similarity* (он же *Коэффициент Отиаи*)."
   ]
  },
  {
   "cell_type": "code",
   "execution_count": 28,
   "metadata": {
    "slideshow": {
     "slide_type": "skip"
    }
   },
   "outputs": [],
   "source": [
    "POS_TAGS = ['NOUN', 'ADJ', 'VERB', 'ADV', 'PROPN']\n",
    "VOWELS = frozenset('аоиыуэ')"
   ]
  },
  {
   "cell_type": "code",
   "execution_count": 29,
   "metadata": {
    "slideshow": {
     "slide_type": "skip"
    }
   },
   "outputs": [],
   "source": [
    "import gensim\n",
    "\n",
    "def count_vowels(text):\n",
    "    return sum(letter in VOWELS for letter in text)\n",
    "\n",
    "def lemmatize(articles):\n",
    "\n",
    "    # remove e-mails and url links\n",
    "    articles = articles.replace(r'\\S*@\\S*\\s?', '', regex=True)\n",
    "    articles = articles.replace(r'http\\S+', '', regex=True)\n",
    "    articles = articles.replace(r'www.\\S+', '', regex=True)\n",
    "\n",
    "    # fix punctuation\n",
    "    articles = articles.replace(r'\\.([а-яА-Я])', r'. \\g<1>', regex=True)\n",
    "\n",
    "    # remove all non-alphabetic characters\n",
    "    articles = articles.replace(r'[^а-яА-Я.]+', ' ', regex=True)\n",
    "\n",
    "    # lowercase\n",
    "    articles = articles.str.lower()\n",
    "\n",
    "    docs = list(NLP.pipe(articles, batch_size=len(articles)))\n",
    "\n",
    "    tokens = [[token.lemma_ for token in article if token.pos_ in POS_TAGS] for article in docs]\n",
    "    sentence_count = [len(list(article.sents)) for article in docs]\n",
    "    syllable_count = [count_vowels(article) for article in articles]  # in russian, no. of vowels ~= no. of syllables\n",
    "\n",
    "    return tokens, sentence_count, syllable_count\n",
    "\n",
    "def form_ngrams(articles: pd.Series) -> pd.Series:\n",
    "    '''\n",
    "    Substitutes collocations with respective n-grams where it can be applied.\n",
    "    Used in eval_data_4_role()\n",
    "\n",
    "    :param articles: Series containing the necessary tokenized articles\n",
    "    :return: Series with n-grams added\n",
    "    '''\n",
    "    bigram = gensim.models.Phrases(articles)\n",
    "    trigram = gensim.models.Phrases(bigram[articles])\n",
    "\n",
    "    bigram_mod = gensim.models.phrases.Phraser(bigram)\n",
    "    trigram_mod = gensim.models.phrases.Phraser(trigram)\n",
    "\n",
    "    temp = pd.Series(0, index=np.arange(len(articles)))\n",
    "    for i, entry in articles.items():\n",
    "        temp[i] = bigram_mod[entry]\n",
    "        temp[i] = trigram_mod[bigram_mod[entry]]\n",
    "\n",
    "    return temp"
   ]
  },
  {
   "cell_type": "code",
   "execution_count": 30,
   "metadata": {
    "slideshow": {
     "slide_type": "subslide"
    }
   },
   "outputs": [],
   "source": [
    "df['Text_Clean'], _, _ = lemmatize(df.Text)\n",
    "df['Text_Clean'] = form_ngrams(df['Text_Clean'])\n",
    "df['Text_Clean'] = df.Text_Clean.str.join(' ')"
   ]
  },
  {
   "cell_type": "code",
   "execution_count": 109,
   "metadata": {
    "slideshow": {
     "slide_type": "fragment"
    }
   },
   "outputs": [],
   "source": [
    "THRESHOLD = 0.915"
   ]
  },
  {
   "cell_type": "markdown",
   "metadata": {
    "slideshow": {
     "slide_type": "notes"
    }
   },
   "source": [
    "Группируем статьи по спискам индексов"
   ]
  },
  {
   "cell_type": "code",
   "execution_count": 110,
   "metadata": {
    "slideshow": {
     "slide_type": "skip"
    }
   },
   "outputs": [],
   "source": [
    "import spacy\n",
    "from itertools import chain\n",
    "\n",
    "NLP = spacy.load('ru_core_news_lg')\n",
    "\n",
    "docs = list(NLP.pipe(df.Text_Clean, batch_size=len(df.Text_Clean)))\n",
    "\n",
    "def get_similarity(index1, index2) -> float:\n",
    "    return docs[index1].similarity(docs[index2])\n",
    "\n",
    "res = []\n",
    "added_articles = set()\n",
    "\n",
    "for i in range(len(df)):\n",
    "    for j in range(i + 1, len(df)):\n",
    "        if get_similarity(i, j) > THRESHOLD:\n",
    "            added_articles.add(i)\n",
    "            added_articles.add(j)\n",
    "\n",
    "            if i and j in chain(*res): continue\n",
    "\n",
    "            new_group = {i, j}\n",
    "            for group in res:\n",
    "                if i in group:\n",
    "                    flag = True\n",
    "                    for element in group:\n",
    "                        if get_similarity(element, j) < THRESHOLD:\n",
    "                            new_group.remove(i)\n",
    "                            flag = False\n",
    "                    if flag:\n",
    "                        group.append(j)\n",
    "                        new_group.clear()\n",
    "                        break\n",
    "                elif j in group:\n",
    "                    flag = True\n",
    "                    for element in group:\n",
    "                        if get_similarity(element, i) < THRESHOLD:\n",
    "                            new_group.remove(j)\n",
    "                            flag = False\n",
    "                    if flag:\n",
    "                        group.append(i)\n",
    "                        new_group.clear()\n",
    "                        break\n",
    "\n",
    "            if new_group:\n",
    "                res.append(list(new_group))\n",
    "            # print(res)\n",
    "\n",
    "for i in list(df.index.values):\n",
    "    if i not in added_articles:\n",
    "        res.append([i])"
   ]
  },
  {
   "cell_type": "code",
   "execution_count": 111,
   "metadata": {
    "slideshow": {
     "slide_type": "skip"
    }
   },
   "outputs": [],
   "source": [
    "res.sort(key=len, reverse=True)"
   ]
  },
  {
   "cell_type": "markdown",
   "metadata": {
    "slideshow": {
     "slide_type": "notes"
    }
   },
   "source": [
    "Вывод матрицы сходств (для красоты)"
   ]
  },
  {
   "cell_type": "code",
   "execution_count": 112,
   "metadata": {
    "slideshow": {
     "slide_type": "fragment"
    }
   },
   "outputs": [],
   "source": [
    "SLICE_SIZE = 13"
   ]
  },
  {
   "cell_type": "code",
   "execution_count": 113,
   "metadata": {
    "slideshow": {
     "slide_type": "skip"
    }
   },
   "outputs": [],
   "source": [
    "indices = list(df.index.values)[:SLICE_SIZE]\n",
    "rowConst, colConst = [tmp.T for tmp in np.meshgrid(indices, indices)]\n",
    "matrix = pd.DataFrame(np.vectorize(get_similarity)(rowConst, colConst), index=indices, columns=indices)\n",
    "matrix.update(matrix.applymap('{:,.3f}'.format))"
   ]
  },
  {
   "cell_type": "code",
   "execution_count": 114,
   "metadata": {
    "slideshow": {
     "slide_type": "fragment"
    }
   },
   "outputs": [
    {
     "data": {
      "text/html": [
       "<div>\n",
       "<style scoped>\n",
       "    .dataframe tbody tr th:only-of-type {\n",
       "        vertical-align: middle;\n",
       "    }\n",
       "\n",
       "    .dataframe tbody tr th {\n",
       "        vertical-align: top;\n",
       "    }\n",
       "\n",
       "    .dataframe thead th {\n",
       "        text-align: right;\n",
       "    }\n",
       "</style>\n",
       "<table border=\"1\" class=\"dataframe\">\n",
       "  <thead>\n",
       "    <tr style=\"text-align: right;\">\n",
       "      <th></th>\n",
       "      <th>0</th>\n",
       "      <th>1</th>\n",
       "      <th>2</th>\n",
       "      <th>3</th>\n",
       "      <th>4</th>\n",
       "      <th>5</th>\n",
       "      <th>6</th>\n",
       "      <th>7</th>\n",
       "      <th>8</th>\n",
       "      <th>9</th>\n",
       "      <th>10</th>\n",
       "      <th>11</th>\n",
       "      <th>12</th>\n",
       "    </tr>\n",
       "  </thead>\n",
       "  <tbody>\n",
       "    <tr>\n",
       "      <th>0</th>\n",
       "      <td>1.000</td>\n",
       "      <td>0.773</td>\n",
       "      <td>0.786</td>\n",
       "      <td>0.770</td>\n",
       "      <td>0.746</td>\n",
       "      <td>0.757</td>\n",
       "      <td>0.774</td>\n",
       "      <td>0.796</td>\n",
       "      <td>0.834</td>\n",
       "      <td>0.647</td>\n",
       "      <td>0.823</td>\n",
       "      <td>0.683</td>\n",
       "      <td>0.801</td>\n",
       "    </tr>\n",
       "    <tr>\n",
       "      <th>1</th>\n",
       "      <td>0.773</td>\n",
       "      <td>1.000</td>\n",
       "      <td>0.812</td>\n",
       "      <td>0.734</td>\n",
       "      <td>0.815</td>\n",
       "      <td>0.812</td>\n",
       "      <td>0.811</td>\n",
       "      <td>0.807</td>\n",
       "      <td>0.798</td>\n",
       "      <td>0.744</td>\n",
       "      <td>0.818</td>\n",
       "      <td>0.808</td>\n",
       "      <td>0.797</td>\n",
       "    </tr>\n",
       "    <tr>\n",
       "      <th>2</th>\n",
       "      <td>0.786</td>\n",
       "      <td>0.812</td>\n",
       "      <td>1.000</td>\n",
       "      <td>0.807</td>\n",
       "      <td>0.766</td>\n",
       "      <td>0.795</td>\n",
       "      <td>0.839</td>\n",
       "      <td>0.855</td>\n",
       "      <td>0.828</td>\n",
       "      <td>0.827</td>\n",
       "      <td>0.849</td>\n",
       "      <td>0.841</td>\n",
       "      <td>0.851</td>\n",
       "    </tr>\n",
       "    <tr>\n",
       "      <th>3</th>\n",
       "      <td>0.770</td>\n",
       "      <td>0.734</td>\n",
       "      <td>0.807</td>\n",
       "      <td>1.000</td>\n",
       "      <td>0.703</td>\n",
       "      <td>0.802</td>\n",
       "      <td>0.850</td>\n",
       "      <td>0.868</td>\n",
       "      <td>0.819</td>\n",
       "      <td>0.733</td>\n",
       "      <td>0.823</td>\n",
       "      <td>0.722</td>\n",
       "      <td>0.833</td>\n",
       "    </tr>\n",
       "    <tr>\n",
       "      <th>4</th>\n",
       "      <td>0.746</td>\n",
       "      <td>0.815</td>\n",
       "      <td>0.766</td>\n",
       "      <td>0.703</td>\n",
       "      <td>1.000</td>\n",
       "      <td>0.750</td>\n",
       "      <td>0.825</td>\n",
       "      <td>0.759</td>\n",
       "      <td>0.824</td>\n",
       "      <td>0.692</td>\n",
       "      <td>0.856</td>\n",
       "      <td>0.754</td>\n",
       "      <td>0.802</td>\n",
       "    </tr>\n",
       "    <tr>\n",
       "      <th>5</th>\n",
       "      <td>0.757</td>\n",
       "      <td>0.812</td>\n",
       "      <td>0.795</td>\n",
       "      <td>0.802</td>\n",
       "      <td>0.750</td>\n",
       "      <td>1.000</td>\n",
       "      <td>0.856</td>\n",
       "      <td>0.881</td>\n",
       "      <td>0.843</td>\n",
       "      <td>0.754</td>\n",
       "      <td>0.779</td>\n",
       "      <td>0.728</td>\n",
       "      <td>0.895</td>\n",
       "    </tr>\n",
       "    <tr>\n",
       "      <th>6</th>\n",
       "      <td>0.774</td>\n",
       "      <td>0.811</td>\n",
       "      <td>0.839</td>\n",
       "      <td>0.850</td>\n",
       "      <td>0.825</td>\n",
       "      <td>0.856</td>\n",
       "      <td>1.000</td>\n",
       "      <td>0.879</td>\n",
       "      <td>0.880</td>\n",
       "      <td>0.808</td>\n",
       "      <td>0.864</td>\n",
       "      <td>0.817</td>\n",
       "      <td>0.883</td>\n",
       "    </tr>\n",
       "    <tr>\n",
       "      <th>7</th>\n",
       "      <td>0.796</td>\n",
       "      <td>0.807</td>\n",
       "      <td>0.855</td>\n",
       "      <td>0.868</td>\n",
       "      <td>0.759</td>\n",
       "      <td>0.881</td>\n",
       "      <td>0.879</td>\n",
       "      <td>1.000</td>\n",
       "      <td>0.829</td>\n",
       "      <td>0.759</td>\n",
       "      <td>0.814</td>\n",
       "      <td>0.765</td>\n",
       "      <td>0.897</td>\n",
       "    </tr>\n",
       "    <tr>\n",
       "      <th>8</th>\n",
       "      <td>0.834</td>\n",
       "      <td>0.798</td>\n",
       "      <td>0.828</td>\n",
       "      <td>0.819</td>\n",
       "      <td>0.824</td>\n",
       "      <td>0.843</td>\n",
       "      <td>0.880</td>\n",
       "      <td>0.829</td>\n",
       "      <td>1.000</td>\n",
       "      <td>0.735</td>\n",
       "      <td>0.896</td>\n",
       "      <td>0.725</td>\n",
       "      <td>0.903</td>\n",
       "    </tr>\n",
       "    <tr>\n",
       "      <th>9</th>\n",
       "      <td>0.647</td>\n",
       "      <td>0.744</td>\n",
       "      <td>0.827</td>\n",
       "      <td>0.733</td>\n",
       "      <td>0.692</td>\n",
       "      <td>0.754</td>\n",
       "      <td>0.808</td>\n",
       "      <td>0.759</td>\n",
       "      <td>0.735</td>\n",
       "      <td>1.000</td>\n",
       "      <td>0.765</td>\n",
       "      <td>0.897</td>\n",
       "      <td>0.765</td>\n",
       "    </tr>\n",
       "    <tr>\n",
       "      <th>10</th>\n",
       "      <td>0.823</td>\n",
       "      <td>0.818</td>\n",
       "      <td>0.849</td>\n",
       "      <td>0.823</td>\n",
       "      <td>0.856</td>\n",
       "      <td>0.779</td>\n",
       "      <td>0.864</td>\n",
       "      <td>0.814</td>\n",
       "      <td>0.896</td>\n",
       "      <td>0.765</td>\n",
       "      <td>1.000</td>\n",
       "      <td>0.781</td>\n",
       "      <td>0.843</td>\n",
       "    </tr>\n",
       "    <tr>\n",
       "      <th>11</th>\n",
       "      <td>0.683</td>\n",
       "      <td>0.808</td>\n",
       "      <td>0.841</td>\n",
       "      <td>0.722</td>\n",
       "      <td>0.754</td>\n",
       "      <td>0.728</td>\n",
       "      <td>0.817</td>\n",
       "      <td>0.765</td>\n",
       "      <td>0.725</td>\n",
       "      <td>0.897</td>\n",
       "      <td>0.781</td>\n",
       "      <td>1.000</td>\n",
       "      <td>0.753</td>\n",
       "    </tr>\n",
       "    <tr>\n",
       "      <th>12</th>\n",
       "      <td>0.801</td>\n",
       "      <td>0.797</td>\n",
       "      <td>0.851</td>\n",
       "      <td>0.833</td>\n",
       "      <td>0.802</td>\n",
       "      <td>0.895</td>\n",
       "      <td>0.883</td>\n",
       "      <td>0.897</td>\n",
       "      <td>0.903</td>\n",
       "      <td>0.765</td>\n",
       "      <td>0.843</td>\n",
       "      <td>0.753</td>\n",
       "      <td>1.000</td>\n",
       "    </tr>\n",
       "  </tbody>\n",
       "</table>\n",
       "</div>"
      ],
      "text/plain": [
       "       0      1      2      3      4      5      6      7      8      9    \n",
       "0   1.000  0.773  0.786  0.770  0.746  0.757  0.774  0.796  0.834  0.647  \\\n",
       "1   0.773  1.000  0.812  0.734  0.815  0.812  0.811  0.807  0.798  0.744   \n",
       "2   0.786  0.812  1.000  0.807  0.766  0.795  0.839  0.855  0.828  0.827   \n",
       "3   0.770  0.734  0.807  1.000  0.703  0.802  0.850  0.868  0.819  0.733   \n",
       "4   0.746  0.815  0.766  0.703  1.000  0.750  0.825  0.759  0.824  0.692   \n",
       "5   0.757  0.812  0.795  0.802  0.750  1.000  0.856  0.881  0.843  0.754   \n",
       "6   0.774  0.811  0.839  0.850  0.825  0.856  1.000  0.879  0.880  0.808   \n",
       "7   0.796  0.807  0.855  0.868  0.759  0.881  0.879  1.000  0.829  0.759   \n",
       "8   0.834  0.798  0.828  0.819  0.824  0.843  0.880  0.829  1.000  0.735   \n",
       "9   0.647  0.744  0.827  0.733  0.692  0.754  0.808  0.759  0.735  1.000   \n",
       "10  0.823  0.818  0.849  0.823  0.856  0.779  0.864  0.814  0.896  0.765   \n",
       "11  0.683  0.808  0.841  0.722  0.754  0.728  0.817  0.765  0.725  0.897   \n",
       "12  0.801  0.797  0.851  0.833  0.802  0.895  0.883  0.897  0.903  0.765   \n",
       "\n",
       "       10     11     12  \n",
       "0   0.823  0.683  0.801  \n",
       "1   0.818  0.808  0.797  \n",
       "2   0.849  0.841  0.851  \n",
       "3   0.823  0.722  0.833  \n",
       "4   0.856  0.754  0.802  \n",
       "5   0.779  0.728  0.895  \n",
       "6   0.864  0.817  0.883  \n",
       "7   0.814  0.765  0.897  \n",
       "8   0.896  0.725  0.903  \n",
       "9   0.765  0.897  0.765  \n",
       "10  1.000  0.781  0.843  \n",
       "11  0.781  1.000  0.753  \n",
       "12  0.843  0.753  1.000  "
      ]
     },
     "execution_count": 114,
     "metadata": {},
     "output_type": "execute_result"
    }
   ],
   "source": [
    "matrix"
   ]
  },
  {
   "cell_type": "markdown",
   "metadata": {
    "slideshow": {
     "slide_type": "subslide"
    }
   },
   "source": [
    "Получили группы статей по темам. Чем больше статей на одну тему &mdash; тем она популярнее сейчас.\n",
    "\n",
    "__Проблема:__ как среди одинаковых статей выбрать лучшую?"
   ]
  },
  {
   "cell_type": "code",
   "execution_count": 118,
   "metadata": {
    "slideshow": {
     "slide_type": "fragment"
    }
   },
   "outputs": [
    {
     "data": {
      "text/html": [
       "<div>\n",
       "<style scoped>\n",
       "    .dataframe tbody tr th:only-of-type {\n",
       "        vertical-align: middle;\n",
       "    }\n",
       "\n",
       "    .dataframe tbody tr th {\n",
       "        vertical-align: top;\n",
       "    }\n",
       "\n",
       "    .dataframe thead th {\n",
       "        text-align: right;\n",
       "    }\n",
       "</style>\n",
       "<table border=\"1\" class=\"dataframe\">\n",
       "  <thead>\n",
       "    <tr style=\"text-align: right;\">\n",
       "      <th></th>\n",
       "      <th>Date</th>\n",
       "      <th>Link</th>\n",
       "      <th>Text</th>\n",
       "      <th>Title</th>\n",
       "      <th>Lexical_Diversity</th>\n",
       "      <th>FRE</th>\n",
       "      <th>Neutral</th>\n",
       "      <th>Positive</th>\n",
       "      <th>Negative</th>\n",
       "      <th>Score</th>\n",
       "      <th>Text_Clean</th>\n",
       "    </tr>\n",
       "  </thead>\n",
       "  <tbody>\n",
       "    <tr>\n",
       "      <th>18</th>\n",
       "      <td>2022-10-06 14:34:00</td>\n",
       "      <td>https://lenta.ru/news/2022/10/06/neffft/</td>\n",
       "      <td>Решение Евросоюза (ЕС) о введении потолка цен ...</td>\n",
       "      <td>Кремль оценил решение ЕС о потолке цен на росс...</td>\n",
       "      <td>0.778761</td>\n",
       "      <td>0.333017</td>\n",
       "      <td>0.180738</td>\n",
       "      <td>0.067849</td>\n",
       "      <td>0.751413</td>\n",
       "      <td>0.608952</td>\n",
       "      <td>решение евросоюз ес введение_потолок цена нефт...</td>\n",
       "    </tr>\n",
       "    <tr>\n",
       "      <th>21</th>\n",
       "      <td>2022-10-06 12:20:00</td>\n",
       "      <td>https://lenta.ru/news/2022/10/06/potolok/</td>\n",
       "      <td>Европейская комиссия утвердила новый пакет сан...</td>\n",
       "      <td>Европа согласовала потолок цен для российской ...</td>\n",
       "      <td>0.761364</td>\n",
       "      <td>0.239691</td>\n",
       "      <td>0.823185</td>\n",
       "      <td>0.144318</td>\n",
       "      <td>0.032497</td>\n",
       "      <td>1.936061</td>\n",
       "      <td>европейский комиссия утвердить новый пакет сан...</td>\n",
       "    </tr>\n",
       "  </tbody>\n",
       "</table>\n",
       "</div>"
      ],
      "text/plain": [
       "                   Date                                       Link   \n",
       "18  2022-10-06 14:34:00   https://lenta.ru/news/2022/10/06/neffft/  \\\n",
       "21  2022-10-06 12:20:00  https://lenta.ru/news/2022/10/06/potolok/   \n",
       "\n",
       "                                                 Text   \n",
       "18  Решение Евросоюза (ЕС) о введении потолка цен ...  \\\n",
       "21  Европейская комиссия утвердила новый пакет сан...   \n",
       "\n",
       "                                                Title  Lexical_Diversity   \n",
       "18  Кремль оценил решение ЕС о потолке цен на росс...           0.778761  \\\n",
       "21  Европа согласовала потолок цен для российской ...           0.761364   \n",
       "\n",
       "         FRE   Neutral  Positive  Negative     Score   \n",
       "18  0.333017  0.180738  0.067849  0.751413  0.608952  \\\n",
       "21  0.239691  0.823185  0.144318  0.032497  1.936061   \n",
       "\n",
       "                                           Text_Clean  \n",
       "18  решение евросоюз ес введение_потолок цена нефт...  \n",
       "21  европейский комиссия утвердить новый пакет сан...  "
      ]
     },
     "execution_count": 118,
     "metadata": {},
     "output_type": "execute_result"
    }
   ],
   "source": [
    "df.iloc[res[2]]"
   ]
  },
  {
   "cell_type": "markdown",
   "metadata": {
    "slideshow": {
     "slide_type": "subslide"
    }
   },
   "source": [
    "### Введем в рассмотрение следующие метрики:\n",
    "- лексическое разнообразие<sup>1</sup>:\n",
    "    <p style=\"text-align: center;\">$\\frac{\\text{unique lexemes}}{\\text{total lexemes}}$,</p>\n",
    "- индекс удобочитаемости Флеша (FRE)<sup>2</sup>:\n",
    "    <p style=\"text-align: center;\">$FRE = 206.835 − 1.52\\frac{\\text{total words}}{\\text{total sentences}} − 65.14 \\frac{\\text{total syllables}}{\\text{total words}}$,</p>\n",
    "- тональность текста:\n",
    "    - пессимизируем негативные статьи;\n",
    "    - оптимизируем нейтральные (реже &mdash; позитивные) статьи."
   ]
  },
  {
   "cell_type": "markdown",
   "metadata": {
    "slideshow": {
     "slide_type": "notes"
    }
   },
   "source": [
    "Считаем метрики 1-2"
   ]
  },
  {
   "cell_type": "code",
   "execution_count": 25,
   "metadata": {
    "slideshow": {
     "slide_type": "skip"
    }
   },
   "outputs": [],
   "source": [
    "def evaluate(articles):\n",
    "    tokens, total_sentences, total_syllables = lemmatize(articles)\n",
    "\n",
    "    lexical_diversity = np.fromiter((len(set(tokens)) / len(tokens) for tokens in tokens), float)\n",
    "\n",
    "    # Flesch Reading Ease\n",
    "    fre = np.fromiter((206.835 - 1.52 * (len(w) / sen) - 65.14 * (syl / len(w)) for w, sen, syl in zip(tokens, total_sentences, total_syllables)), float)\n",
    "    fre = (fre - np.min(fre)) / (121.22 - np.min(fre))  # 121.22 is the highest possible score;\n",
    "                                                        # there's no lower bound, so we use the lowest score we got as a reference\n",
    "    return tokens, lexical_diversity, fre"
   ]
  },
  {
   "cell_type": "code",
   "execution_count": 26,
   "metadata": {
    "slideshow": {
     "slide_type": "skip"
    }
   },
   "outputs": [],
   "source": [
    "df[\"Text_Clean\"], df[\"Lexical_Diversity\"], df[\"FRE\"] = evaluate(df.Text)"
   ]
  },
  {
   "cell_type": "code",
   "execution_count": 27,
   "metadata": {
    "slideshow": {
     "slide_type": "skip"
    }
   },
   "outputs": [
    {
     "data": {
      "text/html": [
       "<div>\n",
       "<style scoped>\n",
       "    .dataframe tbody tr th:only-of-type {\n",
       "        vertical-align: middle;\n",
       "    }\n",
       "\n",
       "    .dataframe tbody tr th {\n",
       "        vertical-align: top;\n",
       "    }\n",
       "\n",
       "    .dataframe thead th {\n",
       "        text-align: right;\n",
       "    }\n",
       "</style>\n",
       "<table border=\"1\" class=\"dataframe\">\n",
       "  <thead>\n",
       "    <tr style=\"text-align: right;\">\n",
       "      <th></th>\n",
       "      <th>Date</th>\n",
       "      <th>Link</th>\n",
       "      <th>Text</th>\n",
       "      <th>Title</th>\n",
       "      <th>Lexical_Diversity</th>\n",
       "      <th>FRE</th>\n",
       "      <th>Neutral</th>\n",
       "      <th>Positive</th>\n",
       "      <th>Negative</th>\n",
       "      <th>Score</th>\n",
       "      <th>Text_Clean</th>\n",
       "    </tr>\n",
       "  </thead>\n",
       "  <tbody>\n",
       "    <tr>\n",
       "      <th>0</th>\n",
       "      <td>2022-10-08 04:53:00</td>\n",
       "      <td>https://lenta.ru/news/2022/10/08/saud/</td>\n",
       "      <td>Глава МИД Саудовской Аравии Адель аль-Джубейр ...</td>\n",
       "      <td>В Саудовской Аравии ответили на претензии США ...</td>\n",
       "      <td>0.795181</td>\n",
       "      <td>0.342219</td>\n",
       "      <td>0.180781</td>\n",
       "      <td>0.067882</td>\n",
       "      <td>0.751337</td>\n",
       "      <td>0.634726</td>\n",
       "      <td>[глава, мид, саудовский, аравия, адель, джубей...</td>\n",
       "    </tr>\n",
       "    <tr>\n",
       "      <th>1</th>\n",
       "      <td>2022-10-08 00:37:51</td>\n",
       "      <td>https://lenta.ru/news/2022/10/08/mvf/</td>\n",
       "      <td>Исполнительный совет Международного валютного ...</td>\n",
       "      <td>МВФ выделил 1,3 миллиарда долларов Украине</td>\n",
       "      <td>0.776596</td>\n",
       "      <td>0.151390</td>\n",
       "      <td>0.824889</td>\n",
       "      <td>0.142081</td>\n",
       "      <td>0.033030</td>\n",
       "      <td>1.861926</td>\n",
       "      <td>[исполнительный, совет, международный, валютны...</td>\n",
       "    </tr>\n",
       "    <tr>\n",
       "      <th>2</th>\n",
       "      <td>2022-10-07 21:31:00</td>\n",
       "      <td>https://lenta.ru/news/2022/10/07/sakhalin/</td>\n",
       "      <td>Президент России Владимир Путин подписал указ ...</td>\n",
       "      <td>Путин подписал указ о создании нового оператор...</td>\n",
       "      <td>0.700000</td>\n",
       "      <td>0.213808</td>\n",
       "      <td>0.180691</td>\n",
       "      <td>0.067857</td>\n",
       "      <td>0.751453</td>\n",
       "      <td>0.410903</td>\n",
       "      <td>[президент, россия, владимир, путин, подписать...</td>\n",
       "    </tr>\n",
       "    <tr>\n",
       "      <th>3</th>\n",
       "      <td>2022-10-07 19:11:00</td>\n",
       "      <td>https://lenta.ru/news/2022/10/07/semi_ch/</td>\n",
       "      <td>Администрация президента США объявила о новых ...</td>\n",
       "      <td>США нашли способ ударить по доступу Китая к кл...</td>\n",
       "      <td>0.820513</td>\n",
       "      <td>0.045299</td>\n",
       "      <td>0.180675</td>\n",
       "      <td>0.067848</td>\n",
       "      <td>0.751478</td>\n",
       "      <td>0.362857</td>\n",
       "      <td>[администрация, президент, сша, объявить, новы...</td>\n",
       "    </tr>\n",
       "    <tr>\n",
       "      <th>4</th>\n",
       "      <td>2022-10-07 17:00:00</td>\n",
       "      <td>https://lenta.ru/news/2022/10/07/ecbbanki/</td>\n",
       "      <td>Европейский центробанк (ЕЦБ) ужесточает требов...</td>\n",
       "      <td>От европейских банков потребовали экономии</td>\n",
       "      <td>0.805310</td>\n",
       "      <td>0.244684</td>\n",
       "      <td>0.817153</td>\n",
       "      <td>0.150579</td>\n",
       "      <td>0.032268</td>\n",
       "      <td>1.985458</td>\n",
       "      <td>[европейский, центробанк, ецб, ужесточать, тре...</td>\n",
       "    </tr>\n",
       "    <tr>\n",
       "      <th>5</th>\n",
       "      <td>2022-10-07 15:55:00</td>\n",
       "      <td>https://lenta.ru/news/2022/10/07/natzval/</td>\n",
       "      <td>Страны, которые входят в СНГ, переходят на рас...</td>\n",
       "      <td>Путин объяснил переход стран СНГ на расчеты в ...</td>\n",
       "      <td>0.849315</td>\n",
       "      <td>0.165046</td>\n",
       "      <td>0.833623</td>\n",
       "      <td>0.129364</td>\n",
       "      <td>0.037013</td>\n",
       "      <td>1.940336</td>\n",
       "      <td>[страна, входить, снг, переходить, расчёт, нац...</td>\n",
       "    </tr>\n",
       "    <tr>\n",
       "      <th>6</th>\n",
       "      <td>2022-10-07 15:22:40</td>\n",
       "      <td>https://lenta.ru/news/2022/10/07/genius/</td>\n",
       "      <td>Президент Белоруссии Александр Лукашенко подпи...</td>\n",
       "      <td>Лукашенко запретил отменять скидки по акции</td>\n",
       "      <td>0.860927</td>\n",
       "      <td>0.237882</td>\n",
       "      <td>0.180701</td>\n",
       "      <td>0.067861</td>\n",
       "      <td>0.751438</td>\n",
       "      <td>0.595932</td>\n",
       "      <td>[президент, белоруссия, александр, лукашенко, ...</td>\n",
       "    </tr>\n",
       "    <tr>\n",
       "      <th>7</th>\n",
       "      <td>2022-10-07 13:48:00</td>\n",
       "      <td>https://lenta.ru/news/2022/10/07/dadut/</td>\n",
       "      <td>Россия и Белоруссия достигли окончательной дог...</td>\n",
       "      <td>В Белоруссии раскрыли сумму ожидаемых от Росси...</td>\n",
       "      <td>0.857143</td>\n",
       "      <td>0.053754</td>\n",
       "      <td>0.824107</td>\n",
       "      <td>0.143030</td>\n",
       "      <td>0.032863</td>\n",
       "      <td>1.845170</td>\n",
       "      <td>[россия, белоруссия, достигнуть, окончательный...</td>\n",
       "    </tr>\n",
       "    <tr>\n",
       "      <th>8</th>\n",
       "      <td>2022-10-07 13:28:50</td>\n",
       "      <td>https://lenta.ru/news/2022/10/07/borrell/</td>\n",
       "      <td>В ЕС нашли объяснение решению ОПЕК+ снизить до...</td>\n",
       "      <td>В ЕС нашли объяснение решению ОПЕК+ снизить до...</td>\n",
       "      <td>0.814570</td>\n",
       "      <td>0.322413</td>\n",
       "      <td>0.180665</td>\n",
       "      <td>0.067837</td>\n",
       "      <td>0.751498</td>\n",
       "      <td>0.633987</td>\n",
       "      <td>[ес, найти, объяснение, решение, опек, снизить...</td>\n",
       "    </tr>\n",
       "    <tr>\n",
       "      <th>9</th>\n",
       "      <td>2022-10-07 12:37:00</td>\n",
       "      <td>https://lenta.ru/news/2022/10/07/garantii_putin/</td>\n",
       "      <td>Российский президент Владимир Путин подписал з...</td>\n",
       "      <td>Путин подписал закон о трудовых правах мобилиз...</td>\n",
       "      <td>0.767742</td>\n",
       "      <td>0.000000</td>\n",
       "      <td>0.180686</td>\n",
       "      <td>0.067854</td>\n",
       "      <td>0.751461</td>\n",
       "      <td>0.264821</td>\n",
       "      <td>[российский, президент, владимир, путин, подпи...</td>\n",
       "    </tr>\n",
       "    <tr>\n",
       "      <th>10</th>\n",
       "      <td>2022-10-07 12:18:00</td>\n",
       "      <td>https://lenta.ru/news/2022/10/07/embargo/</td>\n",
       "      <td>Российское Минэнерго зафиксировало снижение пр...</td>\n",
       "      <td>Добыча угля в России снизилась на 1 процент</td>\n",
       "      <td>0.872180</td>\n",
       "      <td>0.301008</td>\n",
       "      <td>0.180693</td>\n",
       "      <td>0.067856</td>\n",
       "      <td>0.751450</td>\n",
       "      <td>0.670287</td>\n",
       "      <td>[российский, минэнерго, зафиксировать, снижени...</td>\n",
       "    </tr>\n",
       "    <tr>\n",
       "      <th>11</th>\n",
       "      <td>2022-10-07 12:03:53</td>\n",
       "      <td>https://lenta.ru/news/2022/10/07/kreditniekani...</td>\n",
       "      <td>С 7 октября Сбербанк начал оформлять кредитные...</td>\n",
       "      <td>Сбербанк начал оформлять кредитные каникулы дл...</td>\n",
       "      <td>0.790698</td>\n",
       "      <td>0.223311</td>\n",
       "      <td>0.180681</td>\n",
       "      <td>0.067849</td>\n",
       "      <td>0.751470</td>\n",
       "      <td>0.511069</td>\n",
       "      <td>[октябрь, сбербанк, начать, оформлять, кредитн...</td>\n",
       "    </tr>\n",
       "    <tr>\n",
       "      <th>12</th>\n",
       "      <td>2022-10-06 22:49:00</td>\n",
       "      <td>https://lenta.ru/news/2022/10/06/europe/</td>\n",
       "      <td>Обозреватель Зоран Метер предрек катастрофичес...</td>\n",
       "      <td>Европейской экономике предрекли катастрофическ...</td>\n",
       "      <td>0.769231</td>\n",
       "      <td>0.267180</td>\n",
       "      <td>0.180697</td>\n",
       "      <td>0.067857</td>\n",
       "      <td>0.751445</td>\n",
       "      <td>0.533520</td>\n",
       "      <td>[обозреватель, зоран, метер, предречь, катастр...</td>\n",
       "    </tr>\n",
       "    <tr>\n",
       "      <th>13</th>\n",
       "      <td>2022-10-06 19:59:00</td>\n",
       "      <td>https://lenta.ru/news/2022/10/06/zapretobsluj/</td>\n",
       "      <td>ЕС запретит обслуживать суда третьих стран, ко...</td>\n",
       "      <td>ЕС запретит обслуживать суда с подсанкционной ...</td>\n",
       "      <td>0.828571</td>\n",
       "      <td>0.260785</td>\n",
       "      <td>0.180692</td>\n",
       "      <td>0.067855</td>\n",
       "      <td>0.751453</td>\n",
       "      <td>0.586450</td>\n",
       "      <td>[ес, запретить, обслуживать, судно, третий, ст...</td>\n",
       "    </tr>\n",
       "    <tr>\n",
       "      <th>14</th>\n",
       "      <td>2022-10-06 17:56:00</td>\n",
       "      <td>https://lenta.ru/news/2022/10/06/fondrinok/</td>\n",
       "      <td>Британский фондовый рынок потерял 300 миллиард...</td>\n",
       "      <td>Лиз Трасс обвинили в многомиллиардных потерях ...</td>\n",
       "      <td>0.721154</td>\n",
       "      <td>0.311920</td>\n",
       "      <td>0.180680</td>\n",
       "      <td>0.067848</td>\n",
       "      <td>0.751472</td>\n",
       "      <td>0.530131</td>\n",
       "      <td>[британский, фондовый, рынок, потерять, миллиа...</td>\n",
       "    </tr>\n",
       "    <tr>\n",
       "      <th>15</th>\n",
       "      <td>2022-10-06 16:11:05</td>\n",
       "      <td>https://lenta.ru/news/2022/10/06/gosdolg_ukrainy/</td>\n",
       "      <td>Государственный долг Украины за август вырос н...</td>\n",
       "      <td>Госдолг Украины превысил 98 миллиардов долларов</td>\n",
       "      <td>0.743590</td>\n",
       "      <td>0.190905</td>\n",
       "      <td>0.785297</td>\n",
       "      <td>0.177990</td>\n",
       "      <td>0.036712</td>\n",
       "      <td>1.861070</td>\n",
       "      <td>[государственный, долг, украина, август, вырас...</td>\n",
       "    </tr>\n",
       "    <tr>\n",
       "      <th>16</th>\n",
       "      <td>2022-10-06 14:52:00</td>\n",
       "      <td>https://lenta.ru/news/2022/10/06/sankcii/</td>\n",
       "      <td>Российская экономика уже давно научилась адапт...</td>\n",
       "      <td>В России отреагировали на введение восьмого па...</td>\n",
       "      <td>0.750943</td>\n",
       "      <td>0.075504</td>\n",
       "      <td>0.790463</td>\n",
       "      <td>0.171600</td>\n",
       "      <td>0.037937</td>\n",
       "      <td>1.750574</td>\n",
       "      <td>[российский, экономика, уже, давно, научиться,...</td>\n",
       "    </tr>\n",
       "    <tr>\n",
       "      <th>17</th>\n",
       "      <td>2022-10-06 14:45:00</td>\n",
       "      <td>https://lenta.ru/news/2022/10/06/genius/</td>\n",
       "      <td>Президент Белоруссии Александр Лукашенко объяв...</td>\n",
       "      <td>Лукашенко запретил ценам расти</td>\n",
       "      <td>0.833333</td>\n",
       "      <td>0.220837</td>\n",
       "      <td>0.180696</td>\n",
       "      <td>0.067857</td>\n",
       "      <td>0.751446</td>\n",
       "      <td>0.551278</td>\n",
       "      <td>[президент, белоруссия, александр, лукашенко, ...</td>\n",
       "    </tr>\n",
       "    <tr>\n",
       "      <th>18</th>\n",
       "      <td>2022-10-06 14:34:00</td>\n",
       "      <td>https://lenta.ru/news/2022/10/06/neffft/</td>\n",
       "      <td>Решение Евросоюза (ЕС) о введении потолка цен ...</td>\n",
       "      <td>Кремль оценил решение ЕС о потолке цен на росс...</td>\n",
       "      <td>0.778761</td>\n",
       "      <td>0.333017</td>\n",
       "      <td>0.180738</td>\n",
       "      <td>0.067849</td>\n",
       "      <td>0.751413</td>\n",
       "      <td>0.608952</td>\n",
       "      <td>[решение, евросоюз, ес, введение, потолок, цен...</td>\n",
       "    </tr>\n",
       "    <tr>\n",
       "      <th>19</th>\n",
       "      <td>2022-10-06 14:10:46</td>\n",
       "      <td>https://lenta.ru/news/2022/10/06/baltic/</td>\n",
       "      <td>Премьер-министр Польши Матеуш Моравецкий после...</td>\n",
       "      <td>Польша приготовилась к нападению на газопровод...</td>\n",
       "      <td>0.812500</td>\n",
       "      <td>0.116128</td>\n",
       "      <td>0.180694</td>\n",
       "      <td>0.067857</td>\n",
       "      <td>0.751449</td>\n",
       "      <td>0.425730</td>\n",
       "      <td>[премьер, министр, польша, матеуш, моравецкий,...</td>\n",
       "    </tr>\n",
       "    <tr>\n",
       "      <th>20</th>\n",
       "      <td>2022-10-06 13:55:00</td>\n",
       "      <td>https://lenta.ru/news/2022/10/06/budzh/</td>\n",
       "      <td>Министерство финансов России планирует пополни...</td>\n",
       "      <td>В России нашли способ пополнить бюджет на 100 ...</td>\n",
       "      <td>0.740741</td>\n",
       "      <td>0.204789</td>\n",
       "      <td>0.799822</td>\n",
       "      <td>0.162363</td>\n",
       "      <td>0.037815</td>\n",
       "      <td>1.869900</td>\n",
       "      <td>[министерство, финансов, россия, планировать, ...</td>\n",
       "    </tr>\n",
       "    <tr>\n",
       "      <th>21</th>\n",
       "      <td>2022-10-06 12:20:00</td>\n",
       "      <td>https://lenta.ru/news/2022/10/06/potolok/</td>\n",
       "      <td>Европейская комиссия утвердила новый пакет сан...</td>\n",
       "      <td>Европа согласовала потолок цен для российской ...</td>\n",
       "      <td>0.761364</td>\n",
       "      <td>0.239691</td>\n",
       "      <td>0.823185</td>\n",
       "      <td>0.144318</td>\n",
       "      <td>0.032497</td>\n",
       "      <td>1.936061</td>\n",
       "      <td>[европейский, комиссия, утвердить, новый, паке...</td>\n",
       "    </tr>\n",
       "    <tr>\n",
       "      <th>22</th>\n",
       "      <td>2022-10-06 12:08:00</td>\n",
       "      <td>https://lenta.ru/news/2022/10/06/otkazano/</td>\n",
       "      <td>Турция начала отказываться от газа из России в...</td>\n",
       "      <td>Турция начала отказываться от газа из России в...</td>\n",
       "      <td>0.626437</td>\n",
       "      <td>0.133475</td>\n",
       "      <td>0.180688</td>\n",
       "      <td>0.067855</td>\n",
       "      <td>0.751457</td>\n",
       "      <td>0.256997</td>\n",
       "      <td>[турция, начать, отказываться, газ, россия, по...</td>\n",
       "    </tr>\n",
       "    <tr>\n",
       "      <th>23</th>\n",
       "      <td>2022-10-06 12:03:00</td>\n",
       "      <td>https://lenta.ru/news/2022/10/06/ozhidaniya_mi...</td>\n",
       "      <td>Премьер-министр Михаил Мишустин назвал ожидаем...</td>\n",
       "      <td>Мишустин назвал ожидаемые сроки уверенного рос...</td>\n",
       "      <td>0.836538</td>\n",
       "      <td>0.138900</td>\n",
       "      <td>0.829033</td>\n",
       "      <td>0.137668</td>\n",
       "      <td>0.033299</td>\n",
       "      <td>1.908840</td>\n",
       "      <td>[премьер, министр, михаил, мишустин, назвать, ...</td>\n",
       "    </tr>\n",
       "    <tr>\n",
       "      <th>24</th>\n",
       "      <td>2022-10-06 12:00:00</td>\n",
       "      <td>https://lenta.ru/news/2022/10/06/rosekonoka/</td>\n",
       "      <td>Российская экономика доказывает свою способнос...</td>\n",
       "      <td>Мишустин оценил состояние российской экономики...</td>\n",
       "      <td>0.838710</td>\n",
       "      <td>0.157377</td>\n",
       "      <td>0.820418</td>\n",
       "      <td>0.147984</td>\n",
       "      <td>0.031598</td>\n",
       "      <td>1.932890</td>\n",
       "      <td>[российский, экономика, доказывать, способност...</td>\n",
       "    </tr>\n",
       "    <tr>\n",
       "      <th>25</th>\n",
       "      <td>2022-10-06 11:46:00</td>\n",
       "      <td>https://lenta.ru/news/2022/10/06/sud/</td>\n",
       "      <td>Федеральная антимонопольная служба (ФАС) проиг...</td>\n",
       "      <td>ФАС проиграла суд по делу о ценовом сговоре на...</td>\n",
       "      <td>0.746835</td>\n",
       "      <td>0.208087</td>\n",
       "      <td>0.180691</td>\n",
       "      <td>0.067857</td>\n",
       "      <td>0.751452</td>\n",
       "      <td>0.452017</td>\n",
       "      <td>[федеральный, антимонопольный, служба, фас, пр...</td>\n",
       "    </tr>\n",
       "    <tr>\n",
       "      <th>26</th>\n",
       "      <td>2022-10-06 11:41:00</td>\n",
       "      <td>https://lenta.ru/news/2022/10/06/yes_they_can/</td>\n",
       "      <td>В ответ на введение западными странами потолка...</td>\n",
       "      <td>Россию назвали способной резко сократить добыч...</td>\n",
       "      <td>0.797688</td>\n",
       "      <td>0.206178</td>\n",
       "      <td>0.180686</td>\n",
       "      <td>0.067853</td>\n",
       "      <td>0.751461</td>\n",
       "      <td>0.500944</td>\n",
       "      <td>[ответ, введение, западный, страна, потолок, ц...</td>\n",
       "    </tr>\n",
       "    <tr>\n",
       "      <th>27</th>\n",
       "      <td>2022-10-06 11:09:00</td>\n",
       "      <td>https://lenta.ru/news/2022/10/06/subs/</td>\n",
       "      <td>Минпромторг собирается поддержать отечественно...</td>\n",
       "      <td>Власти собрались поддержать отечественное прои...</td>\n",
       "      <td>0.755365</td>\n",
       "      <td>0.100942</td>\n",
       "      <td>0.805713</td>\n",
       "      <td>0.160768</td>\n",
       "      <td>0.033519</td>\n",
       "      <td>1.789269</td>\n",
       "      <td>[минпромторг, собираться, поддержать, отечеств...</td>\n",
       "    </tr>\n",
       "    <tr>\n",
       "      <th>28</th>\n",
       "      <td>2022-10-06 10:42:00</td>\n",
       "      <td>https://lenta.ru/news/2022/10/06/mill/</td>\n",
       "      <td>Решение о выделении Белоруссии кредита на 1,5 ...</td>\n",
       "      <td>Россия даст Белоруссии полтора миллиарда долла...</td>\n",
       "      <td>0.820513</td>\n",
       "      <td>0.152267</td>\n",
       "      <td>0.180693</td>\n",
       "      <td>0.067853</td>\n",
       "      <td>0.751454</td>\n",
       "      <td>0.469871</td>\n",
       "      <td>[решение, выделение, белоруссия, кредит, милли...</td>\n",
       "    </tr>\n",
       "    <tr>\n",
       "      <th>29</th>\n",
       "      <td>2022-10-06 07:42:48</td>\n",
       "      <td>https://lenta.ru/news/2022/10/06/krizis/</td>\n",
       "      <td>Заместитель министра нефти Ирана Ахмад Асадзад...</td>\n",
       "      <td>В Иране заявили о пострадавшем от санкций прот...</td>\n",
       "      <td>0.851852</td>\n",
       "      <td>0.292804</td>\n",
       "      <td>0.180680</td>\n",
       "      <td>0.067843</td>\n",
       "      <td>0.751477</td>\n",
       "      <td>0.641702</td>\n",
       "      <td>[заместитель, министр, нефть, иран, ахмад, аса...</td>\n",
       "    </tr>\n",
       "  </tbody>\n",
       "</table>\n",
       "</div>"
      ],
      "text/plain": [
       "                   Date                                               Link   \n",
       "0   2022-10-08 04:53:00             https://lenta.ru/news/2022/10/08/saud/  \\\n",
       "1   2022-10-08 00:37:51              https://lenta.ru/news/2022/10/08/mvf/   \n",
       "2   2022-10-07 21:31:00         https://lenta.ru/news/2022/10/07/sakhalin/   \n",
       "3   2022-10-07 19:11:00          https://lenta.ru/news/2022/10/07/semi_ch/   \n",
       "4   2022-10-07 17:00:00         https://lenta.ru/news/2022/10/07/ecbbanki/   \n",
       "5   2022-10-07 15:55:00          https://lenta.ru/news/2022/10/07/natzval/   \n",
       "6   2022-10-07 15:22:40           https://lenta.ru/news/2022/10/07/genius/   \n",
       "7   2022-10-07 13:48:00            https://lenta.ru/news/2022/10/07/dadut/   \n",
       "8   2022-10-07 13:28:50          https://lenta.ru/news/2022/10/07/borrell/   \n",
       "9   2022-10-07 12:37:00   https://lenta.ru/news/2022/10/07/garantii_putin/   \n",
       "10  2022-10-07 12:18:00          https://lenta.ru/news/2022/10/07/embargo/   \n",
       "11  2022-10-07 12:03:53  https://lenta.ru/news/2022/10/07/kreditniekani...   \n",
       "12  2022-10-06 22:49:00           https://lenta.ru/news/2022/10/06/europe/   \n",
       "13  2022-10-06 19:59:00     https://lenta.ru/news/2022/10/06/zapretobsluj/   \n",
       "14  2022-10-06 17:56:00        https://lenta.ru/news/2022/10/06/fondrinok/   \n",
       "15  2022-10-06 16:11:05  https://lenta.ru/news/2022/10/06/gosdolg_ukrainy/   \n",
       "16  2022-10-06 14:52:00          https://lenta.ru/news/2022/10/06/sankcii/   \n",
       "17  2022-10-06 14:45:00           https://lenta.ru/news/2022/10/06/genius/   \n",
       "18  2022-10-06 14:34:00           https://lenta.ru/news/2022/10/06/neffft/   \n",
       "19  2022-10-06 14:10:46           https://lenta.ru/news/2022/10/06/baltic/   \n",
       "20  2022-10-06 13:55:00            https://lenta.ru/news/2022/10/06/budzh/   \n",
       "21  2022-10-06 12:20:00          https://lenta.ru/news/2022/10/06/potolok/   \n",
       "22  2022-10-06 12:08:00         https://lenta.ru/news/2022/10/06/otkazano/   \n",
       "23  2022-10-06 12:03:00  https://lenta.ru/news/2022/10/06/ozhidaniya_mi...   \n",
       "24  2022-10-06 12:00:00       https://lenta.ru/news/2022/10/06/rosekonoka/   \n",
       "25  2022-10-06 11:46:00              https://lenta.ru/news/2022/10/06/sud/   \n",
       "26  2022-10-06 11:41:00     https://lenta.ru/news/2022/10/06/yes_they_can/   \n",
       "27  2022-10-06 11:09:00             https://lenta.ru/news/2022/10/06/subs/   \n",
       "28  2022-10-06 10:42:00             https://lenta.ru/news/2022/10/06/mill/   \n",
       "29  2022-10-06 07:42:48           https://lenta.ru/news/2022/10/06/krizis/   \n",
       "\n",
       "                                                 Text   \n",
       "0   Глава МИД Саудовской Аравии Адель аль-Джубейр ...  \\\n",
       "1   Исполнительный совет Международного валютного ...   \n",
       "2   Президент России Владимир Путин подписал указ ...   \n",
       "3   Администрация президента США объявила о новых ...   \n",
       "4   Европейский центробанк (ЕЦБ) ужесточает требов...   \n",
       "5   Страны, которые входят в СНГ, переходят на рас...   \n",
       "6   Президент Белоруссии Александр Лукашенко подпи...   \n",
       "7   Россия и Белоруссия достигли окончательной дог...   \n",
       "8   В ЕС нашли объяснение решению ОПЕК+ снизить до...   \n",
       "9   Российский президент Владимир Путин подписал з...   \n",
       "10  Российское Минэнерго зафиксировало снижение пр...   \n",
       "11  С 7 октября Сбербанк начал оформлять кредитные...   \n",
       "12  Обозреватель Зоран Метер предрек катастрофичес...   \n",
       "13  ЕС запретит обслуживать суда третьих стран, ко...   \n",
       "14  Британский фондовый рынок потерял 300 миллиард...   \n",
       "15  Государственный долг Украины за август вырос н...   \n",
       "16  Российская экономика уже давно научилась адапт...   \n",
       "17  Президент Белоруссии Александр Лукашенко объяв...   \n",
       "18  Решение Евросоюза (ЕС) о введении потолка цен ...   \n",
       "19  Премьер-министр Польши Матеуш Моравецкий после...   \n",
       "20  Министерство финансов России планирует пополни...   \n",
       "21  Европейская комиссия утвердила новый пакет сан...   \n",
       "22  Турция начала отказываться от газа из России в...   \n",
       "23  Премьер-министр Михаил Мишустин назвал ожидаем...   \n",
       "24  Российская экономика доказывает свою способнос...   \n",
       "25  Федеральная антимонопольная служба (ФАС) проиг...   \n",
       "26  В ответ на введение западными странами потолка...   \n",
       "27  Минпромторг собирается поддержать отечественно...   \n",
       "28  Решение о выделении Белоруссии кредита на 1,5 ...   \n",
       "29  Заместитель министра нефти Ирана Ахмад Асадзад...   \n",
       "\n",
       "                                                Title  Lexical_Diversity   \n",
       "0   В Саудовской Аравии ответили на претензии США ...           0.795181  \\\n",
       "1          МВФ выделил 1,3 миллиарда долларов Украине           0.776596   \n",
       "2   Путин подписал указ о создании нового оператор...           0.700000   \n",
       "3   США нашли способ ударить по доступу Китая к кл...           0.820513   \n",
       "4          От европейских банков потребовали экономии           0.805310   \n",
       "5   Путин объяснил переход стран СНГ на расчеты в ...           0.849315   \n",
       "6         Лукашенко запретил отменять скидки по акции           0.860927   \n",
       "7   В Белоруссии раскрыли сумму ожидаемых от Росси...           0.857143   \n",
       "8   В ЕС нашли объяснение решению ОПЕК+ снизить до...           0.814570   \n",
       "9   Путин подписал закон о трудовых правах мобилиз...           0.767742   \n",
       "10        Добыча угля в России снизилась на 1 процент           0.872180   \n",
       "11  Сбербанк начал оформлять кредитные каникулы дл...           0.790698   \n",
       "12  Европейской экономике предрекли катастрофическ...           0.769231   \n",
       "13  ЕС запретит обслуживать суда с подсанкционной ...           0.828571   \n",
       "14  Лиз Трасс обвинили в многомиллиардных потерях ...           0.721154   \n",
       "15    Госдолг Украины превысил 98 миллиардов долларов           0.743590   \n",
       "16  В России отреагировали на введение восьмого па...           0.750943   \n",
       "17                     Лукашенко запретил ценам расти           0.833333   \n",
       "18  Кремль оценил решение ЕС о потолке цен на росс...           0.778761   \n",
       "19  Польша приготовилась к нападению на газопровод...           0.812500   \n",
       "20  В России нашли способ пополнить бюджет на 100 ...           0.740741   \n",
       "21  Европа согласовала потолок цен для российской ...           0.761364   \n",
       "22  Турция начала отказываться от газа из России в...           0.626437   \n",
       "23  Мишустин назвал ожидаемые сроки уверенного рос...           0.836538   \n",
       "24  Мишустин оценил состояние российской экономики...           0.838710   \n",
       "25  ФАС проиграла суд по делу о ценовом сговоре на...           0.746835   \n",
       "26  Россию назвали способной резко сократить добыч...           0.797688   \n",
       "27  Власти собрались поддержать отечественное прои...           0.755365   \n",
       "28  Россия даст Белоруссии полтора миллиарда долла...           0.820513   \n",
       "29  В Иране заявили о пострадавшем от санкций прот...           0.851852   \n",
       "\n",
       "         FRE   Neutral  Positive  Negative     Score   \n",
       "0   0.342219  0.180781  0.067882  0.751337  0.634726  \\\n",
       "1   0.151390  0.824889  0.142081  0.033030  1.861926   \n",
       "2   0.213808  0.180691  0.067857  0.751453  0.410903   \n",
       "3   0.045299  0.180675  0.067848  0.751478  0.362857   \n",
       "4   0.244684  0.817153  0.150579  0.032268  1.985458   \n",
       "5   0.165046  0.833623  0.129364  0.037013  1.940336   \n",
       "6   0.237882  0.180701  0.067861  0.751438  0.595932   \n",
       "7   0.053754  0.824107  0.143030  0.032863  1.845170   \n",
       "8   0.322413  0.180665  0.067837  0.751498  0.633987   \n",
       "9   0.000000  0.180686  0.067854  0.751461  0.264821   \n",
       "10  0.301008  0.180693  0.067856  0.751450  0.670287   \n",
       "11  0.223311  0.180681  0.067849  0.751470  0.511069   \n",
       "12  0.267180  0.180697  0.067857  0.751445  0.533520   \n",
       "13  0.260785  0.180692  0.067855  0.751453  0.586450   \n",
       "14  0.311920  0.180680  0.067848  0.751472  0.530131   \n",
       "15  0.190905  0.785297  0.177990  0.036712  1.861070   \n",
       "16  0.075504  0.790463  0.171600  0.037937  1.750574   \n",
       "17  0.220837  0.180696  0.067857  0.751446  0.551278   \n",
       "18  0.333017  0.180738  0.067849  0.751413  0.608952   \n",
       "19  0.116128  0.180694  0.067857  0.751449  0.425730   \n",
       "20  0.204789  0.799822  0.162363  0.037815  1.869900   \n",
       "21  0.239691  0.823185  0.144318  0.032497  1.936061   \n",
       "22  0.133475  0.180688  0.067855  0.751457  0.256997   \n",
       "23  0.138900  0.829033  0.137668  0.033299  1.908840   \n",
       "24  0.157377  0.820418  0.147984  0.031598  1.932890   \n",
       "25  0.208087  0.180691  0.067857  0.751452  0.452017   \n",
       "26  0.206178  0.180686  0.067853  0.751461  0.500944   \n",
       "27  0.100942  0.805713  0.160768  0.033519  1.789269   \n",
       "28  0.152267  0.180693  0.067853  0.751454  0.469871   \n",
       "29  0.292804  0.180680  0.067843  0.751477  0.641702   \n",
       "\n",
       "                                           Text_Clean  \n",
       "0   [глава, мид, саудовский, аравия, адель, джубей...  \n",
       "1   [исполнительный, совет, международный, валютны...  \n",
       "2   [президент, россия, владимир, путин, подписать...  \n",
       "3   [администрация, президент, сша, объявить, новы...  \n",
       "4   [европейский, центробанк, ецб, ужесточать, тре...  \n",
       "5   [страна, входить, снг, переходить, расчёт, нац...  \n",
       "6   [президент, белоруссия, александр, лукашенко, ...  \n",
       "7   [россия, белоруссия, достигнуть, окончательный...  \n",
       "8   [ес, найти, объяснение, решение, опек, снизить...  \n",
       "9   [российский, президент, владимир, путин, подпи...  \n",
       "10  [российский, минэнерго, зафиксировать, снижени...  \n",
       "11  [октябрь, сбербанк, начать, оформлять, кредитн...  \n",
       "12  [обозреватель, зоран, метер, предречь, катастр...  \n",
       "13  [ес, запретить, обслуживать, судно, третий, ст...  \n",
       "14  [британский, фондовый, рынок, потерять, миллиа...  \n",
       "15  [государственный, долг, украина, август, вырас...  \n",
       "16  [российский, экономика, уже, давно, научиться,...  \n",
       "17  [президент, белоруссия, александр, лукашенко, ...  \n",
       "18  [решение, евросоюз, ес, введение, потолок, цен...  \n",
       "19  [премьер, министр, польша, матеуш, моравецкий,...  \n",
       "20  [министерство, финансов, россия, планировать, ...  \n",
       "21  [европейский, комиссия, утвердить, новый, паке...  \n",
       "22  [турция, начать, отказываться, газ, россия, по...  \n",
       "23  [премьер, министр, михаил, мишустин, назвать, ...  \n",
       "24  [российский, экономика, доказывать, способност...  \n",
       "25  [федеральный, антимонопольный, служба, фас, пр...  \n",
       "26  [ответ, введение, западный, страна, потолок, ц...  \n",
       "27  [минпромторг, собираться, поддержать, отечеств...  \n",
       "28  [решение, выделение, белоруссия, кредит, милли...  \n",
       "29  [заместитель, министр, нефть, иран, ахмад, аса...  "
      ]
     },
     "execution_count": 27,
     "metadata": {},
     "output_type": "execute_result"
    }
   ],
   "source": [
    "df"
   ]
  },
  {
   "cell_type": "markdown",
   "metadata": {
    "slideshow": {
     "slide_type": "notes"
    }
   },
   "source": [
    "Считаем тональность / сентимент"
   ]
  },
  {
   "cell_type": "code",
   "execution_count": 14,
   "metadata": {
    "slideshow": {
     "slide_type": "skip"
    }
   },
   "outputs": [],
   "source": [
    "import torch\n",
    "from transformers import BertTokenizerFast, AutoModelForSequenceClassification\n",
    "\n",
    "tokenizer = BertTokenizerFast.from_pretrained('blanchefort/rubert-base-cased-sentiment')\n",
    "model = AutoModelForSequenceClassification.from_pretrained('blanchefort/rubert-base-cased-sentiment')\n",
    "\n",
    "def predict_sentiment(text):\n",
    "    inputs = tokenizer(text, max_length=512, padding=True, truncation=True, return_tensors='pt')\n",
    "    outputs = model(**inputs)\n",
    "    predicted = torch.nn.functional.softmax(outputs.logits, dim=1)\n",
    "\n",
    "    return pd.Series(predicted.detach().numpy().flatten())"
   ]
  },
  {
   "cell_type": "code",
   "execution_count": 15,
   "metadata": {
    "slideshow": {
     "slide_type": "skip"
    }
   },
   "outputs": [],
   "source": [
    "df[['Neutral', 'Positive', 'Negative']] = df.apply(lambda row: predict_sentiment(row['Text']), axis=1)"
   ]
  },
  {
   "cell_type": "markdown",
   "metadata": {
    "slideshow": {
     "slide_type": "subslide"
    }
   },
   "source": [
    "<p style=\"text-align: center;\">$\\text{Score} = \\text{Lexical_Diversity} + \\text{FRE} + \\text{Neutral} + \\text{Positive} - \\text{Negative}$,</p>"
   ]
  },
  {
   "cell_type": "code",
   "execution_count": 16,
   "metadata": {
    "slideshow": {
     "slide_type": "skip"
    }
   },
   "outputs": [],
   "source": [
    "df['Score'] = df.Lexical_Diversity + df.FRE + df.Neutral + df.Positive - df.Negative"
   ]
  },
  {
   "cell_type": "markdown",
   "metadata": {
    "slideshow": {
     "slide_type": "fragment"
    }
   },
   "source": [
    "### Результат\n",
    "Топ-3 новости из датасета"
   ]
  },
  {
   "cell_type": "code",
   "execution_count": 17,
   "metadata": {
    "slideshow": {
     "slide_type": "fragment"
    }
   },
   "outputs": [],
   "source": [
    "TOP = 3"
   ]
  },
  {
   "cell_type": "code",
   "execution_count": 18,
   "metadata": {
    "slideshow": {
     "slide_type": "fragment"
    }
   },
   "outputs": [
    {
     "name": "stdout",
     "output_type": "stream",
     "text": [
      "Title    В России отреагировали на введение восьмого па...\n",
      "Score                                             1.750574\n",
      "Name: 16, dtype: object\n",
      "Title    В ЕС нашли объяснение решению ОПЕК+ снизить до...\n",
      "Score                                             0.633987\n",
      "Name: 8, dtype: object\n",
      "Title    Европа согласовала потолок цен для российской ...\n",
      "Score                                             1.936061\n",
      "Name: 21, dtype: object\n"
     ]
    }
   ],
   "source": [
    "indices_sorted = list(df.sort_values(by=['Score'], ascending=False).index)\n",
    "\n",
    "for i in range(TOP):\n",
    "    best_in_group_idx = next(match for match in indices_sorted if match in res[i])\n",
    "    print(df[['Title', 'Score']].loc[best_in_group_idx])"
   ]
  },
  {
   "cell_type": "code",
   "execution_count": 19,
   "metadata": {
    "slideshow": {
     "slide_type": "skip"
    }
   },
   "outputs": [],
   "source": [
    "# df[['Title', 'Score']].sort_values(by=['Score'], ascending=False).head(3)"
   ]
  },
  {
   "cell_type": "markdown",
   "metadata": {
    "slideshow": {
     "slide_type": "slide"
    }
   },
   "source": [
    "## Формирование новостного дайджеста\n",
    "__Задача:__ вывести набор кратких изложений статей, которые были выделены в задаче о трендах."
   ]
  },
  {
   "cell_type": "markdown",
   "metadata": {
    "slideshow": {
     "slide_type": "subslide"
    }
   },
   "source": [
    "Создание краткого изложения текста — это задача text summarization."
   ]
  },
  {
   "cell_type": "markdown",
   "metadata": {
    "slideshow": {
     "slide_type": "fragment"
    }
   },
   "source": [
    "Существует два подхода к суммаризации текста: экстракция и абстракция."
   ]
  },
  {
   "cell_type": "markdown",
   "metadata": {
    "slideshow": {
     "slide_type": "fragment"
    }
   },
   "source": [
    "__Экстракция__ — это выделение наиболее значимых частей текста. При этом не происходит изменения исходного текста, алгоритм лишь выделяет части этого текста и склеивает их. Такой подход применяется в библиотеках Sumy (в ней имплементированы алгоритмы LexRank, Luhn, LSA, TextRank) и Gensim (TextRank)."
   ]
  },
  {
   "cell_type": "markdown",
   "metadata": {
    "slideshow": {
     "slide_type": "fragment"
    }
   },
   "source": [
    "__Абстракция__ — это обобщение, пересказ исходного текста. При этом текст-вывод может не содержаться дословно в тексте-вводе: он генерируется с нуля. Для реализации этого подхода используются рекуррентные и свёрточные нейронные сети, обеспечивающие natural language understanding и natural language generation."
   ]
  },
  {
   "cell_type": "markdown",
   "metadata": {
    "slideshow": {
     "slide_type": "fragment"
    }
   },
   "source": [
    "Выбор подхода зависит от условий решаемой задачи: экстрактивные алгоритмы проще в реализации, а абстрактивные теоретически должны давать более качественный результат."
   ]
  },
  {
   "cell_type": "markdown",
   "metadata": {
    "slideshow": {
     "slide_type": "fragment"
    }
   },
   "source": [
    "Для сравнения результатов суммаризации с применением разных подходов возьмём Sumy для экстракции, MBart и ruGPT-3 для абстракции."
   ]
  },
  {
   "cell_type": "markdown",
   "metadata": {
    "slideshow": {
     "slide_type": "subslide"
    }
   },
   "source": [
    "### MBart\n",
    "Sequence-to-sequence модель из двух рекуррентных нейросетей, предобученная на датасете из статей с Газеты.ру. "
   ]
  },
  {
   "cell_type": "code",
   "execution_count": 20,
   "metadata": {
    "slideshow": {
     "slide_type": "fragment"
    }
   },
   "outputs": [],
   "source": [
    "def summarize(article):\n",
    "    from transformers import MBartTokenizer, MBartForConditionalGeneration\n",
    "\n",
    "    model_name = \"IlyaGusev/mbart_ru_sum_gazeta\"\n",
    "    tokenizer = MBartTokenizer.from_pretrained(model_name)\n",
    "    model = MBartForConditionalGeneration.from_pretrained(model_name)\n",
    "\n",
    "    article_text = article\n",
    "\n",
    "    input_ids = tokenizer(\n",
    "        [article_text],\n",
    "        max_length=25,\n",
    "        padding=\"max_length\",\n",
    "        truncation=True,\n",
    "        return_tensors=\"pt\",\n",
    "    )[\"input_ids\"]\n",
    "\n",
    "    output_ids = model.generate(\n",
    "        input_ids=input_ids,\n",
    "        repetition_penalty=3.0\n",
    "    )[0]\n",
    "\n",
    "    summary = tokenizer.decode(output_ids, skip_special_tokens=True)\n",
    "    print(summary)"
   ]
  },
  {
   "cell_type": "markdown",
   "metadata": {
    "slideshow": {
     "slide_type": "subslide"
    }
   },
   "source": [
    "Для тестирования на вход была дана статья: \"Глава МИД Саудовской Аравии Адель аль-Джубейр в интервью <mark>Fox News</mark> ответил на <mark>претензии США из-за сокращения добычи нефти</mark>. Он подчеркнул, что высокие цены на бензин в США — не вина Саудовской Аравии, а следствие нехватки нефтеперерабатывающих заводов (НПЗ) в самих Штатах. «У вас дефицит переработки, вы не строили нефтеперерабатывающие заводы десятилетиями», — заявил министр. При этом аль-Джубейр заверил, что Саудовская Аравия не ставила целью навредить США, а идея об этом «целиком и полностью неверна». Ранее президент США Джо Байден обвинил Россию и Саудовскую Аравию в росте цен на бензин в стране после того, как ОПЕК+ решила резко сократить добычу нефти с ноября текущего года, об этом стало известно 5 октября. Страны должны будут уменьшить производство на два миллиона баррелей в сутки.\""
   ]
  },
  {
   "cell_type": "markdown",
   "metadata": {
    "slideshow": {
     "slide_type": "fragment"
    }
   },
   "source": [
    "Результат с ограничением 20 слов: \"<mark>Westmail News</mark> опубликовало интервью, в котором глава МИД Саудовской Аравии Адель аль-Джубейр рассказал об <mark>отношениях между Москвой и Вашингтоном</mark>.\""
   ]
  },
  {
   "cell_type": "markdown",
   "metadata": {
    "slideshow": {
     "slide_type": "fragment"
    }
   },
   "source": [
    "Результат с ограничением 25 слов: \"<mark>States Weekly</mark> опубликовало интервью, в котором глава МИД Саудовской Аравии Адель аль-Джубейр ответил на <mark>обвинения в коррупции</mark>.\""
   ]
  },
  {
   "cell_type": "markdown",
   "metadata": {
    "slideshow": {
     "slide_type": "fragment"
    }
   },
   "source": [
    "__Вывод:__ работает, но бесполезно из-за ошибок в понимании и генерации текста."
   ]
  },
  {
   "cell_type": "markdown",
   "metadata": {
    "slideshow": {
     "slide_type": "subslide"
    }
   },
   "source": [
    "### ruGPT-3\n",
    "Generative Pre-Trained Transformer, обученный на большом русскоязычном датасете."
   ]
  },
  {
   "cell_type": "markdown",
   "metadata": {
    "slideshow": {
     "slide_type": "fragment"
    }
   },
   "source": [
    "Я потратила несколько часов на то, чтобы разобраться в коде и настроить окружение, но так и не настроила."
   ]
  },
  {
   "cell_type": "markdown",
   "metadata": {
    "slideshow": {
     "slide_type": "fragment"
    }
   },
   "source": [
    "__Вывод:__ возможно, работает, но в ряде случаев бесполезно из-за слишком долгой и сложной первичной локальной настройки. Можно использовать в долгоиграющих системах, но вряд ли — для хакатонов (или с предварительной подготовкой). "
   ]
  },
  {
   "cell_type": "markdown",
   "metadata": {
    "slideshow": {
     "slide_type": "fragment"
    }
   },
   "source": [
    "Есть статья о применении ruGPT-3 к задаче о суммаризации русскоязычных текстов<sup>3</sup>. В ней приведены примеры работы модели, которые демонстрируют, что качество её краткого пересказа приемлемое, но не на уровне пересказа человеком."
   ]
  },
  {
   "cell_type": "markdown",
   "metadata": {
    "slideshow": {
     "slide_type": "subslide"
    }
   },
   "source": [
    "### Sumy\n",
    "Библиотека, включающая в себя алгоритмы суммаризации текстов."
   ]
  },
  {
   "cell_type": "markdown",
   "metadata": {
    "slideshow": {
     "slide_type": "fragment"
    }
   },
   "source": [
    "Я попробовала алгоритмы LexRank, TextRank, Luhn и LSA. По моему впечатлению, более точные и содержательные изложения делает Luhn, его и возьмём в конечный код. Внутри библиотеки алгоритмы вызываются почти одинаково, разница лишь в названии вызываемых функций."
   ]
  },
  {
   "cell_type": "code",
   "execution_count": 22,
   "metadata": {
    "slideshow": {
     "slide_type": "subslide"
    }
   },
   "outputs": [],
   "source": [
    "from sumy.nlp.tokenizers import Tokenizer\n",
    "from sumy.parsers.plaintext import PlaintextParser\n",
    "from sumy.summarizers.luhn import LuhnSummarizer\n",
    "\n",
    "def digest(article: str, n=3):\n",
    "    my_parser = PlaintextParser.from_string(article, Tokenizer('russian'))\n",
    "    \n",
    "    luhn_summarizer = LuhnSummarizer()\n",
    "    luhn_summary = luhn_summarizer(my_parser.document, n)\n",
    "    digest_sentences = \"Luhn summary: \"\n",
    "    for sentence in luhn_summary:\n",
    "        digest_sentences += str(sentence) + \" \"\n",
    "\n",
    "    return digest_sentences"
   ]
  },
  {
   "cell_type": "markdown",
   "metadata": {
    "slideshow": {
     "slide_type": "subslide"
    }
   },
   "source": [
    "__Входной текст для тестирования__:\n",
    "><span style=\"font-size: 0.75em;\">Бывшая студентка из штата Пенсильвания, США, решила скрыть, что ее отчислили из вуза, и инсценировала собственное похищение. Об этом сообщает NBC News. 23-летняя Клои Стайн отправила своему возлюбленному сообщение, что по дороге с работы ее остановил полицейский. После этого девушка перестала выходить на связь. Затем родственники нашли ее брошенный автомобиль и обратились в полицию. Правоохранительные органы организовали масштабные поиски Стайн, был задействован вертолет. К вечеру следующего дня ее обнаружили в городе Дженнет. Девушка объяснила, что ее похитил неизвестный, который представился полицейским. Мужчина якобы, угрожая оружием, завязал ей глаза и увез в неизвестном направлении. Сотрудники полиции обратили внимание на нестыковки в рассказе Стайн. При дальнейших расспросах девушка призналась, что все произошедшее — выдумка. Инсценировка похищения потребовалась, чтобы скрыть, что она больше не учится в Университете штата Пенсильвания. Все это время она скрывала, что ее отчислили еще осенью 2018 года. Стайн задержали по обвинению в совершении четырех правонарушений, в том числе ложном сообщении о преступлении и вмешательстве в деятельность правоохранительных органов. Ранее сообщалось, что гражданин Южной Кореи, находившийся в Таиланде нелегально, инсценировал свое похищение ради денег на расходы для девушки. Он просрочил тайскую визу на 497 дней и сообщил родителям, что его похитили.</span>"
   ]
  },
  {
   "cell_type": "markdown",
   "metadata": {
    "slideshow": {
     "slide_type": "subslide"
    }
   },
   "source": [
    "  __Luhn summary__:\n",
    "  >Бывшая студентка из штата Пенсильвания, США, решила скрыть, что ее отчислили из вуза, и инсценировала собственное похищение. Инсценировка похищения потребовалась, чтобы скрыть, что она больше не учится в Университете штата Пенсильвания. Все это время она скрывала, что ее отчислили еще осенью 2018 года."
   ]
  },
  {
   "cell_type": "markdown",
   "metadata": {
    "slideshow": {
     "slide_type": "fragment"
    }
   },
   "source": [
    "Как работает Luhn:\n",
    "\n",
    "1) Делаем стемматизацию текста, удаляем стоп-слова.\n",
    "\n",
    "2) Сортируем слова по частоте встречаемости.\n",
    "\n",
    "3) Раздаём веса предложениям в тексте по следующему принципу: если в предложении встречается много наиболее частотных слов с расстоянием в 4-5 слов между ними, то предложению даётся более высокий вес.\n",
    "\n",
    "4) Выводим n предложений с наибольшим весом.\n",
    "\n",
    "Алгоритм был представлен сотрудником IBM Гансом Питером Луном в 1958 году и сейчас считается несколько устаревшим (а мне понравился!)."
   ]
  },
  {
   "cell_type": "markdown",
   "metadata": {
    "slideshow": {
     "slide_type": "slide"
    }
   },
   "source": [
    "## Источники\n",
    "\n",
    "[1]: Bird, S., Klein, E., & Loper, E. (2009). Natural language processing with Python: analyzing text with the natural language toolkit. O'Reilly Media.\n",
    "\n",
    "[2]: Оборнева, И. В. (2005). Математическая модель оценки учебных текстов. Вестник МГПУ. Серия «Информатика и информатизация образования». –М.: МГПУ, (1), 4.\n",
    "\n",
    "[3]: Alexandr, N., Irina, O., Tatyana, K., Inessa, K., & Arina, P. (2021). Fine-tuning GPT-3 for Russian Text Summarization. In Data Science and Intelligent Systems: Proceedings of 5th Computational Methods in Systems and Software 2021, Vol. 2 (pp. 748-757). Springer International Publishing."
   ]
  }
 ],
 "metadata": {
  "celltoolbar": "Слайд-шоу",
  "kernelspec": {
   "display_name": "Python 3 (ipykernel)",
   "language": "python",
   "name": "python3"
  },
  "language_info": {
   "codemirror_mode": {
    "name": "ipython",
    "version": 3
   },
   "file_extension": ".py",
   "mimetype": "text/x-python",
   "name": "python",
   "nbconvert_exporter": "python",
   "pygments_lexer": "ipython3",
   "version": "3.10.7"
  }
 },
 "nbformat": 4,
 "nbformat_minor": 1
}
